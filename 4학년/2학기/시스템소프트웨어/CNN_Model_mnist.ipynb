{
  "nbformat": 4,
  "nbformat_minor": 0,
  "metadata": {
    "colab": {
      "provenance": [],
      "collapsed_sections": []
    },
    "kernelspec": {
      "name": "python3",
      "display_name": "Python 3"
    },
    "language_info": {
      "name": "python"
    },
    "accelerator": "GPU"
  },
  "cells": [
    {
      "cell_type": "markdown",
      "source": [
        "#  CNN Model\n",
        "### MNIST 손글씨 사례"
      ],
      "metadata": {
        "id": "xabBFH2u5Aho"
      }
    },
    {
      "cell_type": "code",
      "execution_count": 13,
      "metadata": {
        "id": "6_eLe0RU4_ET"
      },
      "outputs": [],
      "source": [
        "from tensorflow.keras.models import Sequential\n",
        "from tensorflow.keras.layers import Dense, Conv2D, MaxPooling2D, Flatten, Dropout"
      ]
    },
    {
      "cell_type": "markdown",
      "source": [
        "- 모델 정의"
      ],
      "metadata": {
        "id": "vNHcs57ObwjI"
      }
    },
    {
      "cell_type": "code",
      "source": [
        "model = Sequential([ \n",
        "    Conv2D(32, kernel_size=(3,3), input_shape=(28,28,1), activation='relu'),\n",
        "    Conv2D(64, (3,3), activation='relu'),\n",
        "    MaxPooling2D(),                         # MaxPooling2D(pool_size=(2,2))\n",
        "    Dropout(0.25),\n",
        "    Flatten(),\n",
        "    Dense(512, activation='relu'),\n",
        "    Dropout(0.5),\n",
        "    Dense(10, activation='softmax')\n",
        "])\n",
        "model.summary()"
      ],
      "metadata": {
        "id": "_t6dDOaxQIhH",
        "colab": {
          "base_uri": "https://localhost:8080/"
        },
        "outputId": "86f82859-fab2-442b-f067-d6f81747fd04"
      },
      "execution_count": 14,
      "outputs": [
        {
          "output_type": "stream",
          "name": "stdout",
          "text": [
            "Model: \"sequential_2\"\n",
            "_________________________________________________________________\n",
            " Layer (type)                Output Shape              Param #   \n",
            "=================================================================\n",
            " conv2d_4 (Conv2D)           (None, 26, 26, 32)        320       \n",
            "                                                                 \n",
            " conv2d_5 (Conv2D)           (None, 24, 24, 64)        18496     \n",
            "                                                                 \n",
            " max_pooling2d_2 (MaxPooling  (None, 12, 12, 64)       0         \n",
            " 2D)                                                             \n",
            "                                                                 \n",
            " dropout_4 (Dropout)         (None, 12, 12, 64)        0         \n",
            "                                                                 \n",
            " flatten_2 (Flatten)         (None, 9216)              0         \n",
            "                                                                 \n",
            " dense_4 (Dense)             (None, 512)               4719104   \n",
            "                                                                 \n",
            " dropout_5 (Dropout)         (None, 512)               0         \n",
            "                                                                 \n",
            " dense_5 (Dense)             (None, 10)                5130      \n",
            "                                                                 \n",
            "=================================================================\n",
            "Total params: 4,743,050\n",
            "Trainable params: 4,743,050\n",
            "Non-trainable params: 0\n",
            "_________________________________________________________________\n"
          ]
        }
      ]
    },
    {
      "cell_type": "code",
      "source": [
        "model2 = Sequential([ \n",
        "    Conv2D(32, kernel_size=(3,3), padding='same', input_shape=(28,28,1), activation='relu'),\n",
        "    Conv2D(64, (3,3), strides=(2,2), activation='relu'),\n",
        "    MaxPooling2D(pool_size=2),       # MaxPooling2D(pool_size=(2,2))\n",
        "    Dropout(0.25),\n",
        "    Flatten(),\n",
        "    Dense(128, activation='relu'),\n",
        "    Dropout(0.5),\n",
        "    Dense(10, activation='softmax')\n",
        "])\n",
        "model2.summary()"
      ],
      "metadata": {
        "id": "giBbLbkhSnIH",
        "colab": {
          "base_uri": "https://localhost:8080/"
        },
        "outputId": "7d00b077-839e-4969-9c20-5be08e6e96f0"
      },
      "execution_count": 15,
      "outputs": [
        {
          "output_type": "stream",
          "name": "stdout",
          "text": [
            "Model: \"sequential_3\"\n",
            "_________________________________________________________________\n",
            " Layer (type)                Output Shape              Param #   \n",
            "=================================================================\n",
            " conv2d_6 (Conv2D)           (None, 28, 28, 32)        320       \n",
            "                                                                 \n",
            " conv2d_7 (Conv2D)           (None, 13, 13, 64)        18496     \n",
            "                                                                 \n",
            " max_pooling2d_3 (MaxPooling  (None, 6, 6, 64)         0         \n",
            " 2D)                                                             \n",
            "                                                                 \n",
            " dropout_6 (Dropout)         (None, 6, 6, 64)          0         \n",
            "                                                                 \n",
            " flatten_3 (Flatten)         (None, 2304)              0         \n",
            "                                                                 \n",
            " dense_6 (Dense)             (None, 128)               295040    \n",
            "                                                                 \n",
            " dropout_7 (Dropout)         (None, 128)               0         \n",
            "                                                                 \n",
            " dense_7 (Dense)             (None, 10)                1290      \n",
            "                                                                 \n",
            "=================================================================\n",
            "Total params: 315,146\n",
            "Trainable params: 315,146\n",
            "Non-trainable params: 0\n",
            "_________________________________________________________________\n"
          ]
        }
      ]
    },
    {
      "cell_type": "markdown",
      "source": [
        "- 모델 설정"
      ],
      "metadata": {
        "id": "g1PuhpFbbqQ7"
      }
    },
    {
      "cell_type": "code",
      "source": [
        "model.compile(optimizer='adam', loss='categorical_crossentropy', metrics=['accuracy'])"
      ],
      "metadata": {
        "id": "nvnw740ISn4f"
      },
      "execution_count": 16,
      "outputs": []
    },
    {
      "cell_type": "code",
      "source": [
        "from tensorflow.keras.callbacks import ModelCheckpoint, EarlyStopping\n",
        "\n",
        "model_path = 'best-mnist-cnn.h5'\n",
        "checkpoint = ModelCheckpoint(model_path, save_best_only=True, verbose=1)\n",
        "early_stop = EarlyStopping(patience=10)"
      ],
      "metadata": {
        "id": "2_4ePXrwYyZA"
      },
      "execution_count": 17,
      "outputs": []
    },
    {
      "cell_type": "markdown",
      "source": [
        "- 학습 데이터 준비"
      ],
      "metadata": {
        "id": "Ex86H5RAblk7"
      }
    },
    {
      "cell_type": "code",
      "source": [
        "from tensorflow.keras.datasets import mnist\n",
        "(X_train, y_train), (X_test, y_test) = mnist.load_data()"
      ],
      "metadata": {
        "id": "tfZ0erl7Z1-P"
      },
      "execution_count": 18,
      "outputs": []
    },
    {
      "cell_type": "code",
      "source": [
        "import matplotlib.pyplot as plt"
      ],
      "metadata": {
        "id": "LWa4RyoXiECJ"
      },
      "execution_count": 19,
      "outputs": []
    },
    {
      "cell_type": "code",
      "source": [
        "plt.subplot(141)\n",
        "plt.imshow(X_train[0], interpolation=\"bicubic\")\n",
        "plt.grid(False)\n",
        "plt.subplot(142)\n",
        "plt.imshow(X_train[4], interpolation=\"bicubic\")\n",
        "plt.grid(False)\n",
        "plt.subplot(143)\n",
        "plt.imshow(X_train[8], interpolation=\"bicubic\")\n",
        "plt.grid(False)\n",
        "plt.subplot(144)\n",
        "plt.imshow(X_train[12], interpolation=\"bicubic\")\n",
        "plt.grid(False)\n",
        "plt.show()"
      ],
      "metadata": {
        "colab": {
          "base_uri": "https://localhost:8080/",
          "height": 123
        },
        "id": "fii1hW19hZpW",
        "outputId": "4ba0ee2f-ba53-413b-93e0-d89fe1b2cae6"
      },
      "execution_count": 20,
      "outputs": [
        {
          "output_type": "display_data",
          "data": {
            "text/plain": [
              "<Figure size 432x288 with 4 Axes>"
            ],
            "image/png": "[encoded data removed]"
          },
          "metadata": {
            "needs_background": "light"
          }
        }
      ]
    },
    {
      "cell_type": "code",
      "source": [
        "# X data: 0~1 사이의 값, 3차원 --> 4차원\n",
        "X_train = X_train.reshape(-1,28,28,1) / 255.\n",
        "X_test = X_test.reshape(-1,28,28,1) / 255."
      ],
      "metadata": {
        "id": "X_cW06SiZ80W"
      },
      "execution_count": 21,
      "outputs": []
    },
    {
      "cell_type": "code",
      "source": [
        "# One-hot encoding\n",
        "from tensorflow.keras.utils import to_categorical\n",
        "Y_train = to_categorical(y_train)\n",
        "Y_test = to_categorical(y_test)"
      ],
      "metadata": {
        "id": "wXsnbSZtaGuC"
      },
      "execution_count": 22,
      "outputs": []
    },
    {
      "cell_type": "markdown",
      "source": [
        "- 모델 학습 및 평가"
      ],
      "metadata": {
        "id": "5q-p9P4LbNxc"
      }
    },
    {
      "cell_type": "code",
      "source": [
        "hist = model.fit(\n",
        "    X_train, Y_train, validation_split=0.2, epochs=100, batch_size=200,\n",
        "    callbacks=[checkpoint, early_stop], verbose=1\n",
        ")"
      ],
      "metadata": {
        "id": "y2x8HqpJY95i",
        "colab": {
          "base_uri": "https://localhost:8080/"
        },
        "outputId": "efa0810c-0865-4375-852d-ffdd34f120e7"
      },
      "execution_count": null,
      "outputs": [
        {
          "output_type": "stream",
          "name": "stdout",
          "text": [
            "Epoch 1/100\n",
            "238/240 [============================>.] - ETA: 0s - loss: 0.2135 - accuracy: 0.9339\n",
            "Epoch 1: val_loss improved from inf to 0.06214, saving model to best-mnist-cnn.h5\n",
            "240/240 [==============================] - 13s 16ms/step - loss: 0.2124 - accuracy: 0.9342 - val_loss: 0.0621 - val_accuracy: 0.9818\n",
            "Epoch 2/100\n",
            "240/240 [==============================] - ETA: 0s - loss: 0.0601 - accuracy: 0.9814\n",
            "Epoch 2: val_loss improved from 0.06214 to 0.04356, saving model to best-mnist-cnn.h5\n",
            "240/240 [==============================] - 4s 15ms/step - loss: 0.0601 - accuracy: 0.9814 - val_loss: 0.0436 - val_accuracy: 0.9874\n",
            "Epoch 3/100\n",
            "239/240 [============================>.] - ETA: 0s - loss: 0.0439 - accuracy: 0.9858\n",
            "Epoch 3: val_loss improved from 0.04356 to 0.03925, saving model to best-mnist-cnn.h5\n",
            "240/240 [==============================] - 4s 15ms/step - loss: 0.0437 - accuracy: 0.9858 - val_loss: 0.0392 - val_accuracy: 0.9892\n",
            "Epoch 4/100\n",
            "240/240 [==============================] - ETA: 0s - loss: 0.0333 - accuracy: 0.9896\n",
            "Epoch 4: val_loss improved from 0.03925 to 0.03675, saving model to best-mnist-cnn.h5\n",
            "240/240 [==============================] - 4s 15ms/step - loss: 0.0333 - accuracy: 0.9896 - val_loss: 0.0367 - val_accuracy: 0.9894\n",
            "Epoch 5/100\n",
            "237/240 [============================>.] - ETA: 0s - loss: 0.0269 - accuracy: 0.9912\n",
            "Epoch 5: val_loss improved from 0.03675 to 0.03459, saving model to best-mnist-cnn.h5\n",
            "240/240 [==============================] - 4s 15ms/step - loss: 0.0270 - accuracy: 0.9912 - val_loss: 0.0346 - val_accuracy: 0.9896\n",
            "Epoch 6/100\n",
            "237/240 [============================>.] - ETA: 0s - loss: 0.0223 - accuracy: 0.9926\n",
            "Epoch 6: val_loss did not improve from 0.03459\n",
            "240/240 [==============================] - 3s 14ms/step - loss: 0.0223 - accuracy: 0.9926 - val_loss: 0.0382 - val_accuracy: 0.9882\n",
            "Epoch 7/100\n",
            "239/240 [============================>.] - ETA: 0s - loss: 0.0200 - accuracy: 0.9932\n",
            "Epoch 7: val_loss did not improve from 0.03459\n",
            "240/240 [==============================] - 4s 16ms/step - loss: 0.0200 - accuracy: 0.9932 - val_loss: 0.0407 - val_accuracy: 0.9877\n",
            "Epoch 8/100\n",
            "238/240 [============================>.] - ETA: 0s - loss: 0.0168 - accuracy: 0.9944\n",
            "Epoch 8: val_loss did not improve from 0.03459\n",
            "240/240 [==============================] - 3s 14ms/step - loss: 0.0169 - accuracy: 0.9944 - val_loss: 0.0363 - val_accuracy: 0.9896\n",
            "Epoch 9/100\n",
            "238/240 [============================>.] - ETA: 0s - loss: 0.0138 - accuracy: 0.9954\n",
            "Epoch 9: val_loss improved from 0.03459 to 0.03329, saving model to best-mnist-cnn.h5\n",
            "240/240 [==============================] - 4s 15ms/step - loss: 0.0137 - accuracy: 0.9954 - val_loss: 0.0333 - val_accuracy: 0.9913\n",
            "Epoch 10/100\n",
            "240/240 [==============================] - ETA: 0s - loss: 0.0113 - accuracy: 0.9961\n",
            "Epoch 10: val_loss improved from 0.03329 to 0.03301, saving model to best-mnist-cnn.h5\n",
            "240/240 [==============================] - 4s 15ms/step - loss: 0.0113 - accuracy: 0.9961 - val_loss: 0.0330 - val_accuracy: 0.9913\n",
            "Epoch 11/100\n",
            "239/240 [============================>.] - ETA: 0s - loss: 0.0129 - accuracy: 0.9955\n",
            "Epoch 11: val_loss improved from 0.03301 to 0.03277, saving model to best-mnist-cnn.h5\n",
            "240/240 [==============================] - 4s 15ms/step - loss: 0.0129 - accuracy: 0.9955 - val_loss: 0.0328 - val_accuracy: 0.9922\n",
            "Epoch 12/100\n",
            "239/240 [============================>.] - ETA: 0s - loss: 0.0102 - accuracy: 0.9962\n",
            "Epoch 12: val_loss did not improve from 0.03277\n",
            "240/240 [==============================] - 3s 14ms/step - loss: 0.0101 - accuracy: 0.9962 - val_loss: 0.0353 - val_accuracy: 0.9914\n",
            "Epoch 13/100\n",
            "238/240 [============================>.] - ETA: 0s - loss: 0.0096 - accuracy: 0.9966\n",
            "Epoch 13: val_loss did not improve from 0.03277\n",
            "240/240 [==============================] - 3s 14ms/step - loss: 0.0095 - accuracy: 0.9966 - val_loss: 0.0362 - val_accuracy: 0.9909\n",
            "Epoch 14/100\n",
            "237/240 [============================>.] - ETA: 0s - loss: 0.0088 - accuracy: 0.9969\n",
            "Epoch 14: val_loss did not improve from 0.03277\n",
            "240/240 [==============================] - 3s 14ms/step - loss: 0.0088 - accuracy: 0.9969 - val_loss: 0.0378 - val_accuracy: 0.9904\n",
            "Epoch 15/100\n",
            "238/240 [============================>.] - ETA: 0s - loss: 0.0086 - accuracy: 0.9971\n",
            "Epoch 15: val_loss did not improve from 0.03277\n",
            "240/240 [==============================] - 3s 14ms/step - loss: 0.0088 - accuracy: 0.9971 - val_loss: 0.0362 - val_accuracy: 0.9919\n",
            "Epoch 16/100\n",
            "237/240 [============================>.] - ETA: 0s - loss: 0.0078 - accuracy: 0.9971\n",
            "Epoch 16: val_loss did not improve from 0.03277\n",
            "240/240 [==============================] - 3s 14ms/step - loss: 0.0078 - accuracy: 0.9971 - val_loss: 0.0476 - val_accuracy: 0.9905\n",
            "Epoch 17/100\n",
            "238/240 [============================>.] - ETA: 0s - loss: 0.0083 - accuracy: 0.9969\n",
            "Epoch 17: val_loss did not improve from 0.03277\n",
            "240/240 [==============================] - 3s 14ms/step - loss: 0.0083 - accuracy: 0.9969 - val_loss: 0.0388 - val_accuracy: 0.9915\n",
            "Epoch 18/100\n",
            "238/240 [============================>.] - ETA: 0s - loss: 0.0086 - accuracy: 0.9972\n",
            "Epoch 18: val_loss did not improve from 0.03277\n",
            "240/240 [==============================] - 3s 14ms/step - loss: 0.0085 - accuracy: 0.9972 - val_loss: 0.0351 - val_accuracy: 0.9915\n",
            "Epoch 19/100\n",
            "240/240 [==============================] - ETA: 0s - loss: 0.0080 - accuracy: 0.9974\n",
            "Epoch 19: val_loss did not improve from 0.03277\n",
            "240/240 [==============================] - 3s 14ms/step - loss: 0.0080 - accuracy: 0.9974 - val_loss: 0.0374 - val_accuracy: 0.9902\n",
            "Epoch 20/100\n",
            "237/240 [============================>.] - ETA: 0s - loss: 0.0064 - accuracy: 0.9979\n",
            "Epoch 20: val_loss did not improve from 0.03277\n",
            "240/240 [==============================] - 3s 15ms/step - loss: 0.0065 - accuracy: 0.9979 - val_loss: 0.0414 - val_accuracy: 0.9909\n",
            "Epoch 21/100\n",
            "237/240 [============================>.] - ETA: 0s - loss: 0.0061 - accuracy: 0.9979\n",
            "Epoch 21: val_loss did not improve from 0.03277\n",
            "240/240 [==============================] - 3s 14ms/step - loss: 0.0061 - accuracy: 0.9979 - val_loss: 0.0400 - val_accuracy: 0.9921\n"
          ]
        }
      ]
    },
    {
      "cell_type": "code",
      "source": [
        "from tensorflow.keras.models import load_model\n",
        "\n",
        "best_model = load_model(model_path)\n",
        "best_model.evaluate(X_test, Y_test)"
      ],
      "metadata": {
        "id": "nWU2m5ikaS9-",
        "colab": {
          "base_uri": "https://localhost:8080/"
        },
        "outputId": "fe752372-d4af-4d34-a167-9d7364c9744d"
      },
      "execution_count": null,
      "outputs": [
        {
          "output_type": "stream",
          "name": "stdout",
          "text": [
            "313/313 [==============================] - 1s 3ms/step - loss: 0.0285 - accuracy: 0.9919\n"
          ]
        },
        {
          "output_type": "execute_result",
          "data": {
            "text/plain": [
              "[0.028542522341012955, 0.9919000267982483]"
            ]
          },
          "metadata": {},
          "execution_count": 10
        }
      ]
    },
    {
      "cell_type": "markdown",
      "source": [
        "- 학습과정 시각화"
      ],
      "metadata": {
        "id": "s3Mdrlmoa5Py"
      }
    },
    {
      "cell_type": "code",
      "source": [
        "import numpy as np\n",
        "import matplotlib.pyplot as plt"
      ],
      "metadata": {
        "id": "5yvIOL-Bawh1"
      },
      "execution_count": null,
      "outputs": []
    },
    {
      "cell_type": "code",
      "source": [
        "y_acc = hist.history['accuracy']\n",
        "y_vloss = hist.history['val_loss']\n",
        "xs = np.arange(1, len(y_acc)+1)"
      ],
      "metadata": {
        "id": "RGhvJ1k9aeZg"
      },
      "execution_count": null,
      "outputs": []
    },
    {
      "cell_type": "code",
      "source": [
        "plt.figure(figsize=(12,8))\n",
        "plt.plot(xs, y_acc, label='train accuracy')\n",
        "plt.plot(xs, y_vloss, label='validation loss')\n",
        "plt.legend()\n",
        "plt.grid()\n",
        "plt.xlabel('Epoch')\n",
        "plt.show()"
      ],
      "metadata": {
        "id": "bcA5vwdvasQ4",
        "colab": {
          "base_uri": "https://localhost:8080/",
          "height": 497
        },
        "outputId": "c33c37e4-7649-4e41-c98b-d9ed8a806697"
      },
      "execution_count": null,
      "outputs": [
        {
          "output_type": "display_data",
          "data": {
            "text/plain": [
              "<Figure size 864x576 with 1 Axes>"
            ],
            "image/png": "[encoded data removed]"
          },
          "metadata": {
            "needs_background": "light"
          }
        }
      ]
    },
    {
      "cell_type": "code",
      "source": [],
      "metadata": {
        "id": "lPUKQ5laBom9"
      },
      "execution_count": null,
      "outputs": []
    }
  ]
}